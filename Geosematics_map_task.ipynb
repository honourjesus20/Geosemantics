{
  "nbformat": 4,
  "nbformat_minor": 0,
  "metadata": {
    "colab": {
      "provenance": [],
      "include_colab_link": true
    },
    "kernelspec": {
      "name": "python3",
      "display_name": "Python 3"
    },
    "language_info": {
      "name": "python"
    }
  },
  "cells": [
    {
      "cell_type": "markdown",
      "metadata": {
        "id": "view-in-github",
        "colab_type": "text"
      },
      "source": [
        "<a href=\"https://colab.research.google.com/github/honourjesus20/Geosemantics/blob/main/Geosematics_map_task.ipynb\" target=\"_parent\"><img src=\"https://colab.research.google.com/assets/colab-badge.svg\" alt=\"Open In Colab\"/></a>"
      ]
    },
    {
      "cell_type": "code",
      "execution_count": null,
      "metadata": {
        "id": "c7xHfe6y-zjH"
      },
      "outputs": [],
      "source": [
        "import spacy\n",
        "import json\n",
        "from spacy.tokens import DocBin"
      ]
    },
    {
      "cell_type": "code",
      "source": [
        "# Load your trained spacy model\n",
        "nlp = spacy.load('en_core_web_sm')"
      ],
      "metadata": {
        "id": "C2Fwah8C--9K"
      },
      "execution_count": null,
      "outputs": []
    },
    {
      "cell_type": "code",
      "source": [
        "# Load your data from a JSON file\n",
        "with open('/content/annotations (1).json') as f:\n",
        "    data = json.load(f)"
      ],
      "metadata": {
        "id": "ShWwYVV-_BeA"
      },
      "execution_count": null,
      "outputs": []
    },
    {
      "cell_type": "code",
      "source": [
        "# Initialize DocBin to store the processed documents\n",
        "db = DocBin()"
      ],
      "metadata": {
        "id": "45XEzrDp_Db5"
      },
      "execution_count": null,
      "outputs": []
    },
    {
      "cell_type": "code",
      "source": [
        "for item in data['annotations']:\n",
        "    # Skip None entries\n",
        "    if item is None:\n",
        "        continue\n",
        "\n",
        "    text, annot = item\n",
        "\n",
        "    # Ensure the annotation has the \"entities\" key\n",
        "    if \"entities\" not in annot:\n",
        "        print(\"Annotation missing 'entities' key. Skipping...\")\n",
        "        continue\n",
        "\n",
        "    doc = nlp.make_doc(text)\n",
        "    ents = []\n",
        "\n",
        "    for start, end, label in annot[\"entities\"]:\n",
        "        # Only process location entities\n",
        "        if label == 'LOCATION':\n",
        "            span = doc.char_span(start, end, label=label, alignment_mode=\"contract\")\n",
        "            if span is None:\n",
        "                print(\"Skipping entity\")\n",
        "            else:\n",
        "                ents.append(span)\n",
        "\n",
        "    doc.ents = ents\n",
        "    db.add(doc)\n",
        "\n",
        "# Save the docbin object\n",
        "db.to_disk(\"./location_data.spacy\")"
      ],
      "metadata": {
        "id": "__YWJvZW_Ff5"
      },
      "execution_count": null,
      "outputs": []
    },
    {
      "cell_type": "code",
      "source": [
        "# Load the DocBin file\n",
        "db = DocBin().from_disk(\"./location_data.spacy\")\n",
        "\n",
        "# Iterate through the documents in the DocBin\n",
        "for doc in db.get_docs(nlp.vocab):\n",
        "    # Iterate through the entities in each document\n",
        "    for ent in doc.ents:\n",
        "        # Print the text and label of each entity\n",
        "        print(f\"{ent.text} ({ent.label_})\")"
      ],
      "metadata": {
        "colab": {
          "base_uri": "https://localhost:8080/"
        },
        "id": "bInsMRi__Qxl",
        "outputId": "9fbf907b-7b83-412c-b96d-7036be443d8e"
      },
      "execution_count": null,
      "outputs": [
        {
          "output_type": "stream",
          "name": "stdout",
          "text": [
            "Lagos (LOCATION)\n",
            "Lagos (LOCATION)\n",
            "Nigeria (LOCATION)\n",
            "Nigeria (LOCATION)\n",
            "Balogun Market (LOCATION)\n",
            "Mile 12 Market (LOCATION)\n",
            "Lagos (LOCATION)\n",
            "Lekki Toll Gate (LOCATION)\n",
            "Balogun Market (LOCATION)\n",
            "Lagos Island. (LOCATION)\n",
            "Victoria Island (LOCATION)\n",
            "Balogun (LOCATION)\n",
            "Mile 12 Market (LOCATION)\n",
            "Lagos (LOCATION)\n",
            "Tarkwa Bay (LOCATION)\n",
            "National Theatre (LOCATION)\n",
            "Lagos (LOCATION)\n",
            "Ikeja (LOCATION)\n",
            "Ikoyi (LOCATION)\n",
            "Lagos (LOCATION)\n",
            "Lagos (LOCATION)\n",
            "West Africa (LOCATION)\n",
            "Nigeria. (LOCATION)\n",
            "Lagos (LOCATION)\n",
            "Nigeria’s (LOCATION)\n",
            "Lekki Toll Gate (LOCATION)\n",
            "Balogun Market (LOCATION)\n",
            "Lagos Island (LOCATION)\n",
            "Lagos (LOCATION)\n",
            "Eko Bridge (LOCATION)\n",
            "Lagos. (LOCATION)\n",
            "mainland (LOCATION)\n",
            "Mile 12 Market (LOCATION)\n",
            "Lagos. (LOCATION)\n",
            "Tarkwa Bay (LOCATION)\n",
            "Lagos Harbor (LOCATION)\n",
            "National Theatre (LOCATION)\n",
            "Lagos’ (LOCATION)\n",
            "Ikeja (LOCATION)\n",
            "Apapa (LOCATION)\n",
            "Lagos (LOCATION)\n",
            "Lagos (LOCATION)\n",
            "Lagos (LOCATION)\n",
            "Lagos. (LOCATION)\n"
          ]
        }
      ]
    },
    {
      "cell_type": "code",
      "source": [
        "from geopy.geocoders import GeoNames"
      ],
      "metadata": {
        "id": "egjcsfPe_e_Z"
      },
      "execution_count": null,
      "outputs": []
    },
    {
      "cell_type": "code",
      "source": [
        "import folium\n",
        "\n",
        "# Initialize an empty map\n",
        "# You may want to set the initial location and zoom level based on your data\n",
        "map = folium.Map(location=[0, 0], zoom_start=2)\n",
        "\n",
        "# Initialize the geolocator with your GeoNames username\n",
        "geolocator = GeoNames(username=\"boibash\")\n",
        "\n",
        "# Iterate through the documents in the DocBin\n",
        "for doc in db.get_docs(nlp.vocab):\n",
        "    # Iterate through the entities in each document\n",
        "    for ent in doc.ents:\n",
        "        # Only process LOCATION entities\n",
        "        if ent.label_ == 'LOCATION':\n",
        "            location = geolocator.geocode(ent.text)\n",
        "            if location:\n",
        "                print(f\"{ent.text}: Latitude = {location.latitude}, Longitude = {location.longitude}\")\n",
        "                # Create a marker for each location\n",
        "                folium.Marker(\n",
        "                    location=[location.latitude, location.longitude],\n",
        "                    popup=ent.text\n",
        "                ).add_to(map)\n",
        "            else:\n",
        "                print(f\"Location not found for {ent.text}\")\n",
        "\n",
        "# Save the map to an HTML file\n",
        "map.save('locations_map.html')"
      ],
      "metadata": {
        "colab": {
          "base_uri": "https://localhost:8080/"
        },
        "id": "HKUwSd4LN8Os",
        "outputId": "8605b5ab-770a-4a49-a8a0-b0dc29bb285a"
      },
      "execution_count": null,
      "outputs": [
        {
          "output_type": "stream",
          "name": "stdout",
          "text": [
            "Lagos: Latitude = 6.45407, Longitude = 3.39467\n",
            "Lagos: Latitude = 6.45407, Longitude = 3.39467\n",
            "Nigeria: Latitude = 10.0, Longitude = 8.0\n",
            "Nigeria: Latitude = 10.0, Longitude = 8.0\n",
            "Location not found for Balogun Market\n",
            "Location not found for Mile 12 Market\n",
            "Lagos: Latitude = 6.45407, Longitude = 3.39467\n",
            "Location not found for Lekki Toll Gate\n",
            "Location not found for Balogun Market\n",
            "Lagos Island.: Latitude = 6.46113, Longitude = 3.39037\n",
            "Victoria Island: Latitude = 22.2875, Longitude = 114.14417\n",
            "Balogun: Latitude = 8.46569, Longitude = 4.82754\n",
            "Location not found for Mile 12 Market\n",
            "Lagos: Latitude = 6.45407, Longitude = 3.39467\n",
            "Tarkwa Bay: Latitude = 6.42995, Longitude = 3.40636\n",
            "National Theatre: Latitude = 38.89668, Longitude = -77.02578\n",
            "Lagos: Latitude = 6.45407, Longitude = 3.39467\n",
            "Ikeja: Latitude = 6.59651, Longitude = 3.34205\n",
            "Ikoyi: Latitude = 6.46034, Longitude = 3.43507\n",
            "Lagos: Latitude = 6.45407, Longitude = 3.39467\n",
            "Lagos: Latitude = 6.45407, Longitude = 3.39467\n",
            "West Africa: Latitude = 13.27136, Longitude = -16.64944\n",
            "Nigeria.: Latitude = 10.0, Longitude = 8.0\n",
            "Lagos: Latitude = 6.45407, Longitude = 3.39467\n",
            "Location not found for Nigeria’s\n",
            "Location not found for Lekki Toll Gate\n",
            "Location not found for Balogun Market\n",
            "Lagos Island: Latitude = 6.46113, Longitude = 3.39037\n",
            "Lagos: Latitude = 6.45407, Longitude = 3.39467\n",
            "Eko Bridge: Latitude = 6.46407, Longitude = 3.38034\n",
            "Lagos.: Latitude = 6.45407, Longitude = 3.39467\n",
            "mainland: Latitude = 6.47941, Longitude = 3.37292\n",
            "Location not found for Mile 12 Market\n",
            "Lagos.: Latitude = 6.45407, Longitude = 3.39467\n",
            "Tarkwa Bay: Latitude = 6.42995, Longitude = 3.40636\n",
            "Lagos Harbor: Latitude = -64.47996, Longitude = -62.43776\n",
            "National Theatre: Latitude = 38.89668, Longitude = -77.02578\n",
            "Lagos’: Latitude = 6.45407, Longitude = 3.39467\n",
            "Ikeja: Latitude = 6.59651, Longitude = 3.34205\n",
            "Apapa: Latitude = 6.42926, Longitude = 3.3493\n",
            "Lagos: Latitude = 6.45407, Longitude = 3.39467\n",
            "Lagos: Latitude = 6.45407, Longitude = 3.39467\n",
            "Lagos: Latitude = 6.45407, Longitude = 3.39467\n",
            "Lagos.: Latitude = 6.45407, Longitude = 3.39467\n"
          ]
        }
      ]
    }
  ]
}